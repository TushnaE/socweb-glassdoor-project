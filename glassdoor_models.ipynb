{
 "cells": [
  {
   "cell_type": "markdown",
   "metadata": {},
   "source": [
    "This file contains the necessary code to get the counts and metrics for each company and then runs it through the various ML models"
   ]
  },
  {
   "cell_type": "code",
   "execution_count": 1,
   "metadata": {},
   "outputs": [],
   "source": [
    "from sklearn.feature_extraction.text import CountVectorizer\n",
    "from sklearn.ensemble import RandomForestClassifier\n",
    "from sklearn.datasets import make_classification\n",
    "from sklearn.linear_model import LinearRegression\n",
    "import numpy as np\n",
    "import csv\n",
    "import os\n",
    "import pandas as pd\n",
    "import math"
   ]
  },
  {
   "cell_type": "code",
   "execution_count": 2,
   "metadata": {},
   "outputs": [],
   "source": [
    "dir = 'C:/Users/Chaitu Konjeti/socweb-glassdoor-project/REVIEWS/'"
   ]
  },
  {
   "cell_type": "code",
   "execution_count": 3,
   "metadata": {},
   "outputs": [
    {
     "name": "stderr",
     "output_type": "stream",
     "text": [
      "C:\\Users\\Chaitu Konjeti\\Anaconda3\\lib\\site-packages\\IPython\\core\\interactiveshell.py:3063: DtypeWarning: Columns (23) have mixed types. Specify dtype option on import or set low_memory=False.\n",
      "  interactivity=interactivity, compiler=compiler, result=result)\n"
     ]
    }
   ],
   "source": [
    "all_metrics = {}\n",
    "\n",
    "metrics_file = pd.read_csv('metrics.csv')\n",
    "\n",
    "# get all the proper metrics from the metrics file\n",
    "for row in metrics_file.index:\n",
    "    #print(int(metrics_file['Data Year - Fiscal'][row]))\n",
    "    if metrics_file['Company Name'][row] not in all_metrics.keys():\n",
    "        all_metrics[metrics_file['Company Name'][row]] = []\n",
    "        if not math.isnan(metrics_file['Gross Profit (Loss)'][row]) and not math.isnan(int(metrics_file['Data Year - Fiscal'][row])) and not int(metrics_file['Data Year - Fiscal'][row]) != '0':\n",
    "            all_metrics[metrics_file['Company Name'][row]].append((int(metrics_file['Gross Profit (Loss)'][row]), str(int(metrics_file['Data Year - Fiscal'][row]))))\n",
    "    else:\n",
    "        if not math.isnan(metrics_file['Gross Profit (Loss)'][row]) and not math.isnan(int(metrics_file['Data Year - Fiscal'][row])):\n",
    "            all_metrics[metrics_file['Company Name'][row]].append((int(metrics_file['Gross Profit (Loss)'][row]), str(int(metrics_file['Data Year - Fiscal'][row]))))"
   ]
  },
  {
   "cell_type": "code",
   "execution_count": 5,
   "metadata": {},
   "outputs": [
    {
     "name": "stdout",
     "output_type": "stream",
     "text": [
      "AMERICAN AIRLINES GROUP INC.csv\n",
      "APPLE INC.csv\n",
      "AVNET INC.csv\n"
     ]
    }
   ],
   "source": [
    "metrics = []\n",
    "list_of_posts = []\n",
    "\n",
    "#iterate through all files in the directory\n",
    "for filename in os.listdir(dir):\n",
    "    print(filename)\n",
    "    df = pd.read_csv(dir + filename, header=0)\n",
    "\n",
    "    #get dates and pros columns from data file\n",
    "    dates = df['date']\n",
    "    pros = df['pros']\n",
    "\n",
    "    #get the list of years for all the posts in the file and create a dictionary with years as the keys\n",
    "    years = [date.split(' ')[3] for date in dates]\n",
    "    corpus = {key: '' for key in set(years)}\n",
    "\n",
    "    #add the post to the proper year in the dictionary\n",
    "    for date, pro in zip(years, pros):\n",
    "        corpus[date] += pro + ' '\n",
    "\n",
    "    #sort the keys in order\n",
    "    keys = sorted(corpus)\n",
    "    \n",
    "    company_name = filename.split('.')[0]\n",
    "    \n",
    "    metric_years = [val[1] for val in set(all_metrics[company_name]) if val[1] in years]\n",
    "    \n",
    "    metrics.extend([val[0] for val in set(all_metrics[company_name]) if val[1] in years])\n",
    "    \n",
    "    #only use the metrics from years that present in the datafile\n",
    "    for key in keys:\n",
    "        if key in metric_years:\n",
    "            list_of_posts.append(corpus[key])\n",
    "    \n",
    "#creates count vectorizer for posts\n",
    "vectorizer = CountVectorizer(analyzer='word', ngram_range=(1, 3))\n",
    "counts = vectorizer.fit_transform(list_of_posts)\n",
    "\n",
    "metrics = np.asarray(metrics)"
   ]
  },
  {
   "cell_type": "code",
   "execution_count": 7,
   "metadata": {},
   "outputs": [
    {
     "name": "stdout",
     "output_type": "stream",
     "text": [
      "(28, 8511)\n"
     ]
    }
   ],
   "source": [
    "print(counts.shape)"
   ]
  },
  {
   "cell_type": "code",
   "execution_count": 9,
   "metadata": {},
   "outputs": [
    {
     "name": "stdout",
     "output_type": "stream",
     "text": [
      "(28,)\n"
     ]
    }
   ],
   "source": [
    "print(metrics.shape)"
   ]
  },
  {
   "cell_type": "code",
   "execution_count": 10,
   "metadata": {},
   "outputs": [
    {
     "name": "stderr",
     "output_type": "stream",
     "text": [
      "C:\\Users\\Chaitu Konjeti\\Anaconda3\\lib\\site-packages\\sklearn\\ensemble\\forest.py:245: FutureWarning: The default value of n_estimators will change from 10 in version 0.20 to 100 in 0.22.\n",
      "  \"10 in version 0.20 to 100 in 0.22.\", FutureWarning)\n"
     ]
    },
    {
     "data": {
      "text/plain": [
       "RandomForestClassifier(bootstrap=True, class_weight=None, criterion='gini',\n",
       "                       max_depth=5, max_features='auto', max_leaf_nodes=None,\n",
       "                       min_impurity_decrease=0.0, min_impurity_split=None,\n",
       "                       min_samples_leaf=1, min_samples_split=2,\n",
       "                       min_weight_fraction_leaf=0.0, n_estimators=10,\n",
       "                       n_jobs=None, oob_score=False, random_state=None,\n",
       "                       verbose=0, warm_start=False)"
      ]
     },
     "execution_count": 10,
     "metadata": {},
     "output_type": "execute_result"
    }
   ],
   "source": [
    "clf = RandomForestClassifier(max_depth=5)\n",
    "clf.fit(counts, metrics)"
   ]
  },
  {
   "cell_type": "code",
   "execution_count": 11,
   "metadata": {},
   "outputs": [
    {
     "name": "stdout",
     "output_type": "stream",
     "text": [
      "[2524]\n"
     ]
    }
   ],
   "source": [
    "pred = []\n",
    "for i in range(counts.shape[1]):\n",
    "    if i % 2 == 0:\n",
    "        pred.append(1)\n",
    "    else:\n",
    "        pred.append(1)\n",
    "print(clf.predict([pred]))"
   ]
  },
  {
   "cell_type": "code",
   "execution_count": null,
   "metadata": {},
   "outputs": [],
   "source": []
  }
 ],
 "metadata": {
  "kernelspec": {
   "display_name": "Python 3",
   "language": "python",
   "name": "python3"
  },
  "language_info": {
   "codemirror_mode": {
    "name": "ipython",
    "version": 3
   },
   "file_extension": ".py",
   "mimetype": "text/x-python",
   "name": "python",
   "nbconvert_exporter": "python",
   "pygments_lexer": "ipython3",
   "version": "3.7.4"
  }
 },
 "nbformat": 4,
 "nbformat_minor": 4
}
