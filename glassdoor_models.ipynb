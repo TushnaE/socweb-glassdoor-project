{
 "cells": [
  {
   "cell_type": "markdown",
   "metadata": {},
   "source": [
    "This file contains the necessary code to get the counts and metrics for each company and then runs it through the various ML models"
   ]
  },
  {
   "cell_type": "code",
   "execution_count": null,
   "metadata": {},
   "outputs": [],
   "source": [
    "from sklearn.feature_extraction.text import CountVectorizer, TfidfVectorizer\n",
    "from sklearn.ensemble import RandomForestClassifier\n",
    "from sklearn.datasets import make_classification\n",
    "from sklearn.linear_model import LinearRegression\n",
    "import numpy as np\n",
    "import csv\n",
    "import os\n",
    "import pandas as pd\n",
    "import math\n",
    "from sklearn.naive_bayes import MultinomialNB\n",
    "from sklearn.model_selection import train_test_split\n",
    "from tensorflow.keras.preprocessing.sequence import pad_sequences\n",
    "import tensorflow\n",
    "import tflearn"
   ]
  },
  {
   "cell_type": "code",
   "execution_count": null,
   "metadata": {},
   "outputs": [],
   "source": [
    "dir = 'C:/Users/Chaitu Konjeti/socweb-glassdoor-project/REVIEWS/'"
   ]
  },
  {
   "cell_type": "code",
   "execution_count": null,
   "metadata": {},
   "outputs": [],
   "source": [
    "all_metrics = {}\n",
    "\n",
    "metrics_file = pd.read_csv('metrics.csv')\n",
    "\n",
    "# get all the proper metrics from the metrics file\n",
    "for row in metrics_file.index:\n",
    "    #print(int(metrics_file['Data Year - Fiscal'][row]))\n",
    "    if metrics_file['Company Name'][row] not in all_metrics.keys():\n",
    "        all_metrics[metrics_file['Company Name'][row]] = []\n",
    "        if not math.isnan(metrics_file['Gross Profit (Loss)'][row]) and not math.isnan(int(metrics_file['Data Year - Fiscal'][row])) and not int(metrics_file['Data Year - Fiscal'][row]) != '0':\n",
    "            all_metrics[metrics_file['Company Name'][row]].append((int(metrics_file['Gross Profit (Loss)'][row]), str(int(metrics_file['Data Year - Fiscal'][row]))))\n",
    "    else:\n",
    "        if not math.isnan(metrics_file['Gross Profit (Loss)'][row]) and not math.isnan(int(metrics_file['Data Year - Fiscal'][row])):\n",
    "            all_metrics[metrics_file['Company Name'][row]].append((int(metrics_file['Gross Profit (Loss)'][row]), str(int(metrics_file['Data Year - Fiscal'][row]))))"
   ]
  },
  {
   "cell_type": "code",
   "execution_count": 4,
   "metadata": {},
   "outputs": [
    {
     "name": "stdout",
     "output_type": "stream",
     "text": [
      "AMERICAN AIRLINES GROUP INC.csv\n",
      "APPLE INC.csv\n",
      "AVNET INC.csv\n"
     ]
    }
   ],
   "source": [
    "metrics = []\n",
    "list_of_posts = []\n",
    "\n",
    "#iterate through all files in the directory\n",
    "for filename in os.listdir(dir):\n",
    "    print(filename)\n",
    "    df = pd.read_csv(dir + filename, header=0)\n",
    "\n",
    "    #get dates and pros columns from data file\n",
    "    dates = df['date']\n",
    "    pros = df['pros']\n",
    "\n",
    "    #get the list of years for all the posts in the file and create a dictionary with years as the keys\n",
    "    years = [date.split(' ')[3] for date in dates]\n",
    "    corpus = {key: '' for key in set(years)}\n",
    "\n",
    "    #add the post to the proper year in the dictionary\n",
    "    for date, pro in zip(years, pros):\n",
    "        corpus[date] += pro + ' '\n",
    "\n",
    "    #sort the keys in order\n",
    "    keys = sorted(corpus)\n",
    "    \n",
    "    company_name = filename.split('.')[0]\n",
    "    \n",
    "    metric_years = [val[1] for val in set(all_metrics[company_name]) if val[1] in years]\n",
    "    \n",
    "    metrics.extend([val[0] for val in set(all_metrics[company_name]) if val[1] in years])\n",
    "    \n",
    "    #only use the metrics from years that present in the datafile\n",
    "    for key in keys:\n",
    "        if key in metric_years:\n",
    "            list_of_posts.append(corpus[key])\n",
    "    \n",
    "#creates count vectorizer for posts\n",
    "count_vectorizer = CountVectorizer(analyzer='word', ngram_range=(1, 3))\n",
    "counts = count_vectorizer.fit_transform(list_of_posts)\n",
    "\n",
    "#creates Tfidf vectorizer for posts\n",
    "tfid_vectorizer = TfidfVectorizer(ngram_range=(1, 3), analyzer='word')\n",
    "tfid = tfid_vectorizer.fit_transform(list_of_posts)\n",
    "\n",
    "metrics = np.asarray(metrics)"
   ]
  },
  {
   "cell_type": "code",
   "execution_count": 5,
   "metadata": {},
   "outputs": [
    {
     "name": "stdout",
     "output_type": "stream",
     "text": [
      "(28, 8511)\n"
     ]
    }
   ],
   "source": [
    "print(tfid.shape)"
   ]
  },
  {
   "cell_type": "code",
   "execution_count": 6,
   "metadata": {
    "scrolled": false
   },
   "outputs": [
    {
     "name": "stdout",
     "output_type": "stream",
     "text": [
      "(28,)\n"
     ]
    }
   ],
   "source": [
    "print(metrics.shape)"
   ]
  },
  {
   "cell_type": "code",
   "execution_count": 7,
   "metadata": {},
   "outputs": [],
   "source": [
    "X_train, X_test, y_train, y_test = train_test_split(tfid, metrics, test_size=0.2, random_state=1)"
   ]
  },
  {
   "cell_type": "code",
   "execution_count": 8,
   "metadata": {},
   "outputs": [
    {
     "name": "stderr",
     "output_type": "stream",
     "text": [
      "C:\\Users\\Chaitu Konjeti\\Anaconda3\\lib\\site-packages\\sklearn\\ensemble\\forest.py:245: FutureWarning: The default value of n_estimators will change from 10 in version 0.20 to 100 in 0.22.\n",
      "  \"10 in version 0.20 to 100 in 0.22.\", FutureWarning)\n"
     ]
    },
    {
     "data": {
      "text/plain": [
       "RandomForestClassifier(bootstrap=True, class_weight=None, criterion='gini',\n",
       "                       max_depth=10, max_features='auto', max_leaf_nodes=None,\n",
       "                       min_impurity_decrease=0.0, min_impurity_split=None,\n",
       "                       min_samples_leaf=1, min_samples_split=2,\n",
       "                       min_weight_fraction_leaf=0.0, n_estimators=10,\n",
       "                       n_jobs=None, oob_score=False, random_state=None,\n",
       "                       verbose=0, warm_start=False)"
      ]
     },
     "execution_count": 8,
     "metadata": {},
     "output_type": "execute_result"
    }
   ],
   "source": [
    "clf = RandomForestClassifier(max_depth=10)\n",
    "clf.fit(X_train, y_train)"
   ]
  },
  {
   "cell_type": "code",
   "execution_count": 9,
   "metadata": {},
   "outputs": [
    {
     "data": {
      "text/plain": [
       "0.9545454545454546"
      ]
     },
     "execution_count": 9,
     "metadata": {},
     "output_type": "execute_result"
    }
   ],
   "source": [
    "clf.score(X_train, y_train)"
   ]
  },
  {
   "cell_type": "code",
   "execution_count": 10,
   "metadata": {},
   "outputs": [
    {
     "name": "stdout",
     "output_type": "stream",
     "text": [
      "[ 3602 45640  3534  3534  3534  7628]\n"
     ]
    }
   ],
   "source": [
    "print(clf.predict(X_test))"
   ]
  },
  {
   "cell_type": "code",
   "execution_count": 11,
   "metadata": {},
   "outputs": [
    {
     "data": {
      "text/plain": [
       "array([ 3362, 97586, 93515, 71867, 78483,  2982])"
      ]
     },
     "execution_count": 11,
     "metadata": {},
     "output_type": "execute_result"
    }
   ],
   "source": [
    "y_test"
   ]
  },
  {
   "cell_type": "code",
   "execution_count": 1,
   "metadata": {},
   "outputs": [],
   "source": [
    "# X_train = X_train.toarray().flatten()\n",
    "# X_test = X_test.toarray().flatten()\n",
    "\n",
    "# tensorflow.reset_default_graph()\n",
    "\n",
    "# input_layer = tflearn.input_data(shape=[None, 1000])\n",
    "# net = tflearn.embedding(input_layer, input_dim=100000, output_dim=128)\n",
    "# hid = tflearn.fully_connected(input_layer, 10, activation='tanh') # a hidden layer with 10 neurons\n",
    "# output_layer = tflearn.fully_connected(hid, 2, activation='softmax')\n",
    "\n",
    "# sgd = tflearn.SGD(learning_rate=0.04, lr_decay=0.96, decay_step=1000)\n",
    "# net = tflearn.regression(output_layer, optimizer=sgd, loss='categorical_crossentropy')\n",
    "\n",
    "\n",
    "# model = tflearn.DNN(net, tensorboard_verbose=3, tensorboard_dir='tfdir')\n",
    "# try:\n",
    "#     model.fit(X_train, y_train, n_epoch=5, batch_size=100, show_metric=True, run_id=\"Imdb\")\n",
    "# except KeyboardInterrupt as e:\n",
    "#     print(\"Stopped by user\")"
   ]
  },
  {
   "cell_type": "code",
   "execution_count": null,
   "metadata": {},
   "outputs": [],
   "source": []
  }
 ],
 "metadata": {
  "kernelspec": {
   "display_name": "Python 3",
   "language": "python",
   "name": "python3"
  },
  "language_info": {
   "codemirror_mode": {
    "name": "ipython",
    "version": 3
   },
   "file_extension": ".py",
   "mimetype": "text/x-python",
   "name": "python",
   "nbconvert_exporter": "python",
   "pygments_lexer": "ipython3",
   "version": "3.7.4"
  }
 },
 "nbformat": 4,
 "nbformat_minor": 4
}
