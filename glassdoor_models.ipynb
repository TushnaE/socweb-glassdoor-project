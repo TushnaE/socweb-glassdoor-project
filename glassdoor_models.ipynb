{
 "cells": [
  {
   "cell_type": "markdown",
   "metadata": {},
   "source": [
    "This file contains the necessary code to get the counts and metrics for each company and then runs it through the various ML models"
   ]
  },
  {
   "cell_type": "code",
   "execution_count": null,
   "metadata": {},
   "outputs": [],
   "source": [
    "from sklearn.feature_extraction.text import CountVectorizer\n",
    "from sklearn.ensemble import RandomForestClassifier\n",
    "from sklearn.datasets import make_classification\n",
    "from sklearn.linear_model import LinearRegression\n",
    "import numpy as np\n",
    "import csv\n",
    "import os\n",
    "import pandas as pd"
   ]
  },
  {
   "cell_type": "code",
   "execution_count": null,
   "metadata": {},
   "outputs": [],
   "source": [
    "dir = 'C:/Users/Chaitu Konjeti/socweb-glassdoor-project/REVIEWS/'"
   ]
  },
  {
   "cell_type": "code",
   "execution_count": null,
   "metadata": {},
   "outputs": [],
   "source": [
    "metrics = []\n",
    "list_of_posts = []"
   ]
  },
  {
   "cell_type": "code",
   "execution_count": null,
   "metadata": {},
   "outputs": [],
   "source": [
    "#iterate through all files in the directory\n",
    "for filename in os.listdir(dir):\n",
    "    print(filename)\n",
    "    df = pd.read_csv(dir + filename, header=0)\n",
    "\n",
    "    #get dates and pros columns from data file\n",
    "    dates = df['date']\n",
    "    pros = df['pros']\n",
    "\n",
    "    #get the list of years for all the posts in the file and create a dictionary with years as the keys\n",
    "    years = [date.split(' ')[3] for date in dates]\n",
    "    corpus = {key: '' for key in set(years)}\n",
    "\n",
    "    #add the post to the proper year in the dictionary\n",
    "    for date, pro in zip(years, pros):\n",
    "        corpus[date] += pro + ' '\n",
    "\n",
    "    #sort the keys in order\n",
    "    keys = sorted(corpus)\n",
    "    \n",
    "    company_name = filename.split('.')[0]\n",
    "    \n",
    "    metric_years = []\n",
    "    \n",
    "    metrics_file = pd.read_csv('metrics.csv')\n",
    "\n",
    "    # get all the proper metrics from the metrics file\n",
    "    for row in metrics_file.index:\n",
    "        # print(metricsFile['Data Year - Fiscal'][row])\n",
    "        if metrics_file['Company Name'][row] == company_name and str(\n",
    "                int(metrics_file['Data Year - Fiscal'][row])) in years:\n",
    "            metric_years.append(str(int(metrics_file['Data Year - Fiscal'][row])))\n",
    "            # print(str(int(metricsFile['Data Year - Fiscal'][row])))\n",
    "            metrics.append(int(metrics_file['Gross Profit (Loss)'][row]))\n",
    "    #only use the metrics from years that present in the datafile\n",
    "    for key in keys:\n",
    "        if key in metric_years:\n",
    "            list_of_posts.append(corpus[key])\n",
    "\n",
    "#creates count vectorizer for posts\n",
    "vectorizer = CountVectorizer(analyzer='word', ngram_range=(1, 3))\n",
    "counts = vectorizer.fit_transform(list_of_posts)\n",
    "\n",
    "metrics = np.asarray(metrics)"
   ]
  },
  {
   "cell_type": "code",
   "execution_count": 95,
   "metadata": {},
   "outputs": [
    {
     "name": "stdout",
     "output_type": "stream",
     "text": [
      "  (0, 124)\t1\n",
      "  (0, 1127)\t1\n",
      "  (0, 305)\t6\n",
      "  (0, 1740)\t1\n",
      "  (0, 765)\t3\n",
      "  (0, 910)\t2\n",
      "  (0, 4297)\t1\n",
      "  (0, 4598)\t1\n",
      "  (0, 5935)\t1\n",
      "  (0, 3686)\t1\n",
      "  (0, 4892)\t1\n",
      "  (0, 100)\t1\n",
      "  (0, 6804)\t3\n",
      "  (0, 1665)\t1\n",
      "  (0, 2159)\t1\n",
      "  (0, 290)\t1\n",
      "  (0, 2560)\t1\n",
      "  (0, 4110)\t1\n",
      "  (0, 4959)\t2\n",
      "  (0, 5875)\t1\n",
      "  (0, 8106)\t1\n",
      "  (0, 4332)\t1\n",
      "  (0, 1030)\t1\n",
      "  (0, 2780)\t1\n",
      "  (0, 4097)\t1\n",
      "  :\t:\n",
      "  (26, 425)\t1\n",
      "  (26, 3165)\t1\n",
      "  (26, 5392)\t1\n",
      "  (26, 2540)\t1\n",
      "  (26, 7834)\t1\n",
      "  (26, 6381)\t1\n",
      "  (26, 74)\t1\n",
      "  (26, 7401)\t1\n",
      "  (26, 6165)\t1\n",
      "  (26, 4692)\t1\n",
      "  (26, 1418)\t1\n",
      "  (26, 4902)\t1\n",
      "  (26, 1507)\t1\n",
      "  (27, 6599)\t1\n",
      "  (27, 1589)\t1\n",
      "  (27, 3816)\t1\n",
      "  (27, 2134)\t1\n",
      "  (27, 6620)\t1\n",
      "  (27, 1590)\t1\n",
      "  (27, 3817)\t1\n",
      "  (27, 6600)\t1\n",
      "  (27, 2135)\t1\n",
      "  (27, 1591)\t1\n",
      "  (27, 3818)\t1\n",
      "  (27, 6601)\t1\n",
      "(28, 8511)\n"
     ]
    }
   ],
   "source": [
    "print(counts)\n",
    "print(counts.shape)"
   ]
  },
  {
   "cell_type": "code",
   "execution_count": 96,
   "metadata": {},
   "outputs": [
    {
     "name": "stdout",
     "output_type": "stream",
     "text": [
      "[  3534   2982   4032   3602   4326   7628  13139  15574  14485  13945\n",
      "  13176  11581  17906  26616  45640  71867  71061  78483 104126  93515\n",
      "  97586 112506   3100   3362   3340   2524   2762   2666]\n",
      "(28,)\n"
     ]
    }
   ],
   "source": [
    "print(metrics)\n",
    "print(metrics.shape)"
   ]
  },
  {
   "cell_type": "code",
   "execution_count": 97,
   "metadata": {},
   "outputs": [
    {
     "name": "stderr",
     "output_type": "stream",
     "text": [
      "C:\\Users\\Chaitu Konjeti\\Anaconda3\\lib\\site-packages\\sklearn\\ensemble\\forest.py:245: FutureWarning: The default value of n_estimators will change from 10 in version 0.20 to 100 in 0.22.\n",
      "  \"10 in version 0.20 to 100 in 0.22.\", FutureWarning)\n"
     ]
    },
    {
     "data": {
      "text/plain": [
       "RandomForestClassifier(bootstrap=True, class_weight=None, criterion='gini',\n",
       "                       max_depth=5, max_features='auto', max_leaf_nodes=None,\n",
       "                       min_impurity_decrease=0.0, min_impurity_split=None,\n",
       "                       min_samples_leaf=1, min_samples_split=2,\n",
       "                       min_weight_fraction_leaf=0.0, n_estimators=10,\n",
       "                       n_jobs=None, oob_score=False, random_state=None,\n",
       "                       verbose=0, warm_start=False)"
      ]
     },
     "execution_count": 97,
     "metadata": {},
     "output_type": "execute_result"
    }
   ],
   "source": [
    "clf = RandomForestClassifier(max_depth=5)\n",
    "clf.fit(counts, metrics)"
   ]
  },
  {
   "cell_type": "code",
   "execution_count": 98,
   "metadata": {},
   "outputs": [
    {
     "name": "stdout",
     "output_type": "stream",
     "text": [
      "[4032]\n"
     ]
    }
   ],
   "source": [
    "pred = []\n",
    "for i in range(counts.shape[1]):\n",
    "    if i % 2 == 0:\n",
    "        pred.append(1)\n",
    "    else:\n",
    "        pred.append(1)\n",
    "print(clf.predict([pred]))"
   ]
  },
  {
   "cell_type": "code",
   "execution_count": null,
   "metadata": {},
   "outputs": [],
   "source": []
  },
  {
   "cell_type": "code",
   "execution_count": null,
   "metadata": {},
   "outputs": [],
   "source": []
  },
  {
   "cell_type": "code",
   "execution_count": null,
   "metadata": {},
   "outputs": [],
   "source": []
  },
  {
   "cell_type": "code",
   "execution_count": null,
   "metadata": {},
   "outputs": [],
   "source": []
  },
  {
   "cell_type": "code",
   "execution_count": null,
   "metadata": {},
   "outputs": [],
   "source": []
  },
  {
   "cell_type": "code",
   "execution_count": null,
   "metadata": {},
   "outputs": [],
   "source": []
  },
  {
   "cell_type": "code",
   "execution_count": null,
   "metadata": {},
   "outputs": [],
   "source": []
  }
 ],
 "metadata": {
  "kernelspec": {
   "display_name": "Python 3",
   "language": "python",
   "name": "python3"
  },
  "language_info": {
   "codemirror_mode": {
    "name": "ipython",
    "version": 3
   },
   "file_extension": ".py",
   "mimetype": "text/x-python",
   "name": "python",
   "nbconvert_exporter": "python",
   "pygments_lexer": "ipython3",
   "version": "3.7.4"
  }
 },
 "nbformat": 4,
 "nbformat_minor": 4
}
